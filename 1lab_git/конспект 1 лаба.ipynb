{
 "cells": [
  {
   "cell_type": "markdown",
   "metadata": {},
   "source": [
    "# 1 Лабораторная работя"
   ]
  },
  {
   "cell_type": "code",
   "execution_count": null,
   "metadata": {},
   "outputs": [],
   "source": [
    "!git config --global user.name <...> \n",
    "!git config --global user.mail <...>"
   ]
  },
  {
   "cell_type": "code",
   "execution_count": null,
   "metadata": {},
   "outputs": [],
   "source": [
    "!git init #инициализация репозитория"
   ]
  },
  {
   "cell_type": "code",
   "execution_count": null,
   "metadata": {},
   "outputs": [],
   "source": [
    "!ls -la #проверка файлов"
   ]
  },
  {
   "cell_type": "markdown",
   "metadata": {},
   "source": [
    "файлы есть отслеживаемые и не отслеживаемые"
   ]
  },
  {
   "cell_type": "code",
   "execution_count": null,
   "metadata": {},
   "outputs": [],
   "source": [
    "!git status #проверка статуса файлов"
   ]
  },
  {
   "cell_type": "code",
   "execution_count": null,
   "metadata": {},
   "outputs": [],
   "source": [
    "#добавление в индекс(stage area)\n",
    "!git add <name of file>"
   ]
  },
  {
   "cell_type": "code",
   "execution_count": null,
   "metadata": {},
   "outputs": [],
   "source": [
    "!git commit -m 'msg' #добавление в коммит"
   ]
  },
  {
   "cell_type": "code",
   "execution_count": null,
   "metadata": {},
   "outputs": [],
   "source": [
    "#посмотреть сколько веток и на какой мы находимся\n",
    "!git branch"
   ]
  },
  {
   "cell_type": "code",
   "execution_count": null,
   "metadata": {},
   "outputs": [],
   "source": [
    "#создание ветки\n",
    "!git branch <..>\n",
    "#проверить флаг на правильность!!!!!!!!"
   ]
  },
  {
   "cell_type": "code",
   "execution_count": null,
   "metadata": {},
   "outputs": [],
   "source": [
    "!git checkout\n",
    "#перемещение между коммитами и веткам\n",
    "!git checkout <...> #переход на ветку"
   ]
  },
  {
   "cell_type": "code",
   "execution_count": null,
   "metadata": {},
   "outputs": [],
   "source": [
    "#удаление ветки\n",
    "!git branch -d <...>"
   ]
  },
  {
   "cell_type": "code",
   "execution_count": null,
   "metadata": {},
   "outputs": [],
   "source": [
    "#объединение веток\n",
    "!git merge <...>\n",
    "# в момент слияния должны находиться на \n",
    "#основой ветке, на которую мы хотим перенести изменения"
   ]
  },
  {
   "cell_type": "markdown",
   "metadata": {},
   "source": [
    "гит спрашивает с тем, что делать с файлом делать если они различаются\n",
    "он также добавляет разное  в файл\n",
    "<<< HEAD\n",
    "\n",
    "-//-\n",
    "\n",
    ".========\n",
    "\n",
    "-//-\n",
    "\n",
    ".>>>>>>\n",
    "Мы должны механически зайти в содержимое файла и отредактировать нужным образом, затем смержить ветки и объединить коммитом."
   ]
  },
  {
   "cell_type": "code",
   "execution_count": null,
   "metadata": {},
   "outputs": [],
   "source": [
    "!git log #просмотр логов\n",
    "!git diff #в терминале рисует разницу в файлах от коммита к коммиту, и конфликт веток"
   ]
  },
  {
   "cell_type": "code",
   "execution_count": null,
   "metadata": {},
   "outputs": [],
   "source": [
    "!git log --oneline #сокращение логов, сокращение хеша до 6 символов"
   ]
  },
  {
   "cell_type": "code",
   "execution_count": null,
   "metadata": {},
   "outputs": [],
   "source": [
    "!git reset <hash> #сброс и возвращение к коммиту"
   ]
  },
  {
   "cell_type": "code",
   "execution_count": null,
   "metadata": {},
   "outputs": [],
   "source": [
    "#как откатиться до коммита, не удаляя последние - через git checkot"
   ]
  }
 ],
 "metadata": {
  "language_info": {
   "name": "python"
  },
  "orig_nbformat": 4
 },
 "nbformat": 4,
 "nbformat_minor": 2
}
